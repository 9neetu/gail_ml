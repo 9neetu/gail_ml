{
  "cells": [
    {
      "metadata": {
        "_uuid": "8f2839f25d086af736a60e9eeb907d3b93b6e0e5",
        "_cell_guid": "b1076dfc-b9ad-4769-8c92-a6c4dae69d19",
        "trusted": true,
        "scrolled": false
      },
      "cell_type": "code",
      "source": "# This Python 3 environment comes with many helpful analytics libraries installed\n# It is defined by the kaggle/python docker image: https://github.com/kaggle/docker-python\n# For example, here's several helpful packages to load in \n\nlibrary(data.table)\nlibrary(dplyr)\nlibrary(ggplot2)\n#library(stringr)\n#library(DT)\nlibrary(tidyr)\nlibrary(knitr)\nlibrary(rmarkdown)\nlibrary(tidyverse) # utility functions\nlibrary(rpart) # for regression trees\nlibrary(randomForest) # for random forests\n# Input data files are available in the \"../input/\" directory.\n# For example, running this (by clicking run or pressing Shift+Enter) will list the files in the input directory\ndata = fread(\"../input/Billing Data 2014-15 _RFM_CSV.csv\")\n\ndata <- data %>% \n  mutate(Billing_document=as.factor(Billing_document), Material_group=as.factor(Material_group), \n        Calendar_Day=as.Date(Calendar_Day, '%d.%m.%Y '), Sold_to_party=as.factor(Sold_to_party), \n         Sales_Office=as.factor(Sales_Office), Net_value = as.numeric(gsub(\",\",\"\",Net_value)))\n\n    glimpse(data)\n\n    \n    df_RFM <- data %>%\n        group_by(Sold_to_party) %>%\n         summarise(Recency=as.numeric(max(Calendar_Day)-as.Date(\"2014-01-02\")),\n            Frequency=n_distinct(Billing_document)\n                   , Monetary= sum(Net_value)/n_distinct(Billing_document)\n                  )\n            \nsummary(df_RFM)\nkable(head(df_RFM))\n\ndf_RFM <- df_RFM %>%\n  drop_na()\n    \n# Any results you write to the current directory are saved as output.",
      "execution_count": 4,
      "outputs": []
    },
    {
      "metadata": {
        "_cell_guid": "79c7e3d0-c299-4dcb-8224-4455121ee9b0",
        "_uuid": "d629ff2d2480ee46fbb7e2d37f6b5fab8052498a",
        "trusted": true
      },
      "cell_type": "code",
      "source": "################################################################################\n# Function\n# \tgetDataFrame(df,startDate,endDate,tIDColName=\"ID\",tDateColName=\"Date\",tAmountColName=\"Amount\")\n#\n# Description\n#\tProcess the input data frame of transcation records so that the data frame can be ready for RFM scoring.\n#\tA.Remove the duplicate records with the same customer ID\n#\tB.Find the most recent date for each ID and calculate the days to the endDate, to get the Recency data\n#\tC.Calculate the quantity of translations of a customer, to get the Frequency data\n#\tD.Sum the amount of money a customer spent and divide it by Frequency, to get the average amount per transaction, that is the Monetary data.\n#\n# Arguments\n#\tdf - A data frame of transcation records with customer ID, dates, and the amount of money of each transation\n#\tstartDate - the start date of transcation, the records that happened after the start date will be kepted\n#\tendDate - the end date of transcation, the records that happed after the end date will be removed. It works with the start date to set a time scope\n#\ttIDColName - the column name which contains customer IDs in the input data frame\n#\ttDateColName - the column name which contains transcation dates in the input data frame\n#\ttAmountColName - the column name which contains the amount of money of each transcation in the input data frame\n#\n# Return Value\n#\tReturns a new data frame with three new columns of \"Recency\",\"Frequency\", and \"Monetary\". The number in \"Recency\" is the quantity of days from the # #most recent transcation of a customer to the endDate; The number in the \"Frequency\" is the quantity of transcations of a customer during the period from # #startDate to endDate; the number in the \"Monetary\" is the average amount of money per transcation of a customer during that period.\n#\n#################################################################################\n\ngetDataFrame <- function(df,startDate,endDate,tIDColName=\"Billing_document\",tDateColName=\"Calendar_Day\",tAmountColName=\"Net_value\"){\n\n#order the dataframe by date descendingly\ndf <- df[order(df[,tDateColName],decreasing = TRUE),]\n\n#remove the record before the start data and after the end Date\ndf <- df[df[,tDateColName]>= startDate,]\ndf <- df[df[,tDateColName]<= endDate,]\n\n#remove the rows with the duplicated IDs, and assign the df to a new df.\nnewdf <- df[!duplicated(df[,tIDColName]),]\n\n# caculate the Recency(days) to the endDate, the smaller days value means more recent\nRecency<-as.numeric(difftime(endDate,newdf[,tDateColName],units=\"days\"))\n\n# add the Days column to the newdf data frame\nnewdf <-cbind(newdf,Recency)\n\n#order the dataframe by ID to fit the return order of table() and tapply()\nnewdf <- newdf[order(newdf[,tIDColName]),]\n\n# caculate the frequency\nfre <- as.data.frame(table(df[,tIDColName]))\nFrequency <- fre[,2]\nnewdf <- cbind(newdf,Frequency)\n\n#caculate the Money per deal\nm <- as.data.frame(tapply(df[,tAmountColName],df[,tIDColName],sum))\nMonetary <- m[,1]/Frequency\nnewdf <- cbind(newdf,Monetary)\n\nreturn(newdf)\n\n} # end of function getDataFrame\n\n################################################################################\n# Function\n# \tgetIndependentScore(df,r=5,f=5,m=5)\n#\n# Description\n#\tScoring the Recency, Frequency, and Monetary in r, f, and m in aliquots independently\n#\n# Arguments\n#\tdf - A data frame returned by the function of getDataFrame\n#\tr -  The highest point of Recency\n#\tf -  The highest point of Frequency\n#\tm -  The highest point of Monetary\n#\n# Return Value\n#\tReturns a new data frame with four new columns of \"R_Score\",\"F_Score\",\"M_Score\", and \"Total_Score\".\n#################################################################################\n\ngetIndependentScore <- function(df,r=5,f=5,m=5) {\n\nif (r<=0 || f<=0 || m<=0) return\n\n#order and the score\ndf <- df[order(df$Recency,-df$Frequency,-df$Monetary),]\nR_Score <- scoring(df,\"Recency\",r)\ndf <- cbind(df, R_Score)\n\ndf <- df[order(-df$Frequency,df$Recency,-df$Monetary),]\nF_Score <- scoring(df,\"Frequency\",f)\ndf <- cbind(df, F_Score)\n\ndf <- df[order(-df$Monetary,df$Recency,-df$Frequency),]\nM_Score <- scoring(df,\"Monetary\",m)\ndf <- cbind(df, M_Score)\n\n#order the dataframe by R_Score, F_Score, and M_Score desc\ndf <- df[order(-df$R_Score,-df$F_Score,-df$M_Score),]\n\n# caculate the total score\nTotal_Score <- c(100*df$R_Score + 10*df$F_Score+df$M_Score)\n\ndf <- cbind(df,Total_Score)\n\nreturn (df)\n\n} # end of function getIndependentScore\n\n################################################################################\n# Function\n# \tscoring(df,column,r=5)\n#\n# Description\n#\tA function to be invoked by the getIndepandentScore function\n#######################################\nscoring <- function (df,column,r=5){\n\n#get the length of rows of df\nlen <- dim(df)[1]\n\nscore <- rep(0,times=len)\n\n# get the quantity of rows per 1/r e.g. 1/5\nnr <- round(len / r)\nif (nr > 0){\n\n\t# seperate the rows by r aliquots\n\trStart <-0\n\trEnd <- 0\n\tfor (i in 1:r){\n\t\n\t\t#set the start row number and end row number\n\t\trStart = rEnd+1\n\t\t\n\t\t#skip one \"i\" if the rStart is already in the i+1 or i+2 or ...scope.\n\t\tif (rStart> i*nr) next\n\n\t\tif (i == r){\n\t\t\tif(rStart<=len ) rEnd <- len else next\n\t\t}else{\n\t\t\trEnd <- i*nr\n\t\t}\n\n\t\t# set the Recency score\n\t\tscore[rStart:rEnd]<- r-i+1\n\n\t\t# make sure the customer who have the same recency have the same score\n\t\ts <- rEnd+1\n\t\tif(i<r & s <= len){\n\t\t\tfor(u in s: len){\n\t\t\t\tif(df[rEnd,column]==df[u,column]){\n\t\t\t\t\tscore[u]<- r-i+1\n\t\t\t\t\trEnd <- u\n\t\t\t\t}else{\n\t\t\t\t\tbreak;\n\t\t\t\t}\n\t\t\t}\n\t\t\t\n\t\t}\n\n\t}\n\n}\n\treturn(score)\n\n} #end of function Scoring\n\n\n################################################################################\n# Function\n# \tgetScoreWithBreaks(df,r,f,m)\n#\n# Description\n#\tScoring the Recency, Frequency, and Monetary in r, f, and m which are vector object containing a series of breaks\n#\n# Arguments\n#\tdf - A data frame returned by the function of getDataFrame\n#\tr -  A vector of Recency breaks\n#\tf -  A vector of Frequency breaks\n#\tm -  A vector of Monetary breaks\n#\n# Return Value\n#\tReturns a new data frame with four new columns of \"R_Score\",\"F_Score\",\"M_Score\", and \"Total_Score\".\n#\n#################################################################################\n\ngetScoreWithBreaks <- function(df,r,f,m) {\n\n## scoring the Recency\nlen = length(r)\nR_Score <- c(rep(1,length(df[,1])))\ndf <- cbind(df,R_Score)\nfor(i in 1:len){\n\tif(i == 1){\n\t\tp1=0\n\t}else{\n\t\tp1=r[i-1]\n\t}\n\tp2=r[i]\n\t\n\tif(dim(df[p1<df$Recency & df$Recency<=p2,])[1]>0) df[p1<df$Recency & df$Recency<=p2,]$R_Score = len - i+ 2\n}\n\n## scoring the Frequency\t\nlen = length(f)\nF_Score <- c(rep(1,length(df[,1])))\ndf <- cbind(df,F_Score)\nfor(i in 1:len){\n\tif(i == 1){\n\t\tp1=0\n\t}else{\n\t\tp1=f[i-1]\n\t}\n\tp2=f[i]\n\t\n\tif(dim(df[p1<df$Frequency & df$Frequency<=p2,])[1]>0) df[p1<df$Frequency & df$Frequency<=p2,]$F_Score = i\n}\nif(dim(df[f[len]<df$Frequency,])[1]>0) df[f[len]<df$Frequency,]$F_Score = len+1\n\n## scoring the Monetary\t\nlen = length(m)\nM_Score <- c(rep(1,length(df[,1])))\ndf <- cbind(df,M_Score)\nfor(i in 1:len){\n\tif(i == 1){\n\t\tp1=0\n\t}else{\n\t\tp1=m[i-1]\n\t}\n\tp2=m[i]\n\t\n\tif(dim(df[p1<df$Monetary & df$Monetary<=p2,])[1]>0) df[p1<df$Monetary & df$Monetary<=p2,]$M_Score = i\n}\nif(dim(df[m[len]<df$Monetary,])[1]>0) df[m[len]<df$Monetary,]$M_Score = len+1\n\n#order the dataframe by R_Score, F_Score, and M_Score desc\ndf <- df[order(-df$R_Score,-df$F_Score,-df$M_Score),]\n\n# caculate the total score\nTotal_Score <- c(100*df$R_Score + 10*df$F_Score+df$M_Score)\n\ndf <- cbind(df,Total_Score)\n\nreturn(df)\n\n} # end of function of getScoreWithBreaks\n\n\n################################################################################\n# Function\n# \tdrawHistograms(df,r,f,m)\n#\n# Description\n#\tDraw the histograms in the R, F, and M dimensions so that we can see the quantity of customers in each RFM block.\n#\n# Arguments\n#\tdf - A data frame returned by the function of getIndependent or getScoreWithBreaks\n#\tr -  The highest point of Recency\n#\tf -  The highest point of Frequency\n#\tm -  The highest point of Monetary\n#\n# Return Value\n#\tNo return value.\n#\n#################################################################################\ndrawHistograms <- function(df,r=5,f=5,m=5){\n\n#set the layout plot window\npar(mfrow = c(f,r))\n\nnames <-rep(\"\",times=m)\nfor(i in 1:m) names[i]<-paste(\"M\",i)\n\n\nfor (i in 1:f){\n\tfor (j in 1:r){\n\t\tc <- rep(0,times=m)\n\t\tfor(k in 1:m){\n\t\t\ttmpdf <-df[df$R_Score==j & df$F_Score==i & df$M_Score==k,]\n\t\t\tc[k]<- dim(tmpdf)[1]\n\n\t\t}\n\t\tif (i==1 & j==1) \n\t\t\tbarplot(c,col=\"lightblue\",names.arg=names)\n\t\telse\n\t\t\tbarplot(c,col=\"lightblue\")\n\t\tif (j==1) title(ylab=paste(\"F\",i))\t\n\t\tif (i==1) title(main=paste(\"R\",j))\t\n\n\t}\n\n}\n\npar(mfrow = c(1,1))\n\n} # end of drawHistograms function",
      "execution_count": 2,
      "outputs": []
    },
    {
      "metadata": {
        "trusted": true,
        "_uuid": "c6f4c16acd65498000eb7557b5955951db60c2e2",
        "scrolled": false
      },
      "cell_type": "code",
      "source": "data <- getIndependentScore(df_RFM,r=5,f=5,m=5)\nsummary(data)",
      "execution_count": 7,
      "outputs": []
    },
    {
      "metadata": {
        "trusted": true,
        "_uuid": "2d41a309cf16bc15d9d99ee586be81d7aeff2c18"
      },
      "cell_type": "code",
      "source": "data$FM_Score <- NA\ndata$FM_Score <- (data$F_Score + data$M_Score)/2\nglimpse(data)",
      "execution_count": 10,
      "outputs": []
    },
    {
      "metadata": {
        "trusted": true,
        "_uuid": "3927411008f961dfcd114d337b34fae976b547f1"
      },
      "cell_type": "code",
      "source": "data$customerType <- NA\ndata$customerType = ifelse(data$R_Score>=4 & data$FM_Score>=4,\"Champions\",\n                          ifelse(2<=data$R_Score & data$FM_Score>=3,\"Loyal\",\n                          ifelse(data$R_Score>=3 & data$FM_Score<=3 & data$FM_Score>=2,\"Potential Loyalist\",\n                          ifelse(data$R_Score>=4 & data$FM_Score <=2,\"New\",\n                          ifelse(data$R_Score<=4 &data$FM_Score>=3& data$FM_Score==1,\"Promising\",\n                          ifelse(data$R_Score<=3 & data$R_Score>=2 &data$FM_Score>=2 & data$FM_Score<=3,\"Need Attention\",\n                          ifelse(data$R_Score<=3 & data$R_Score>=2 &data$FM_Score<=2 ,\"About to sleep\",\n                          ifelse(data$R_Score<=2  &data$FM_Score>=2 ,\"At risk\",\n                          ifelse(data$R_Score<=1 &data$FM_Score>=4 ,\"Can't loose them\",\n                          ifelse(data$R_Score<=2  &data$FM_Score<=2 ,\"Hibernating\",NA))))))))))",
      "execution_count": 11,
      "outputs": []
    },
    {
      "metadata": {
        "trusted": true,
        "_uuid": "5738b4ef7ae5883dc361832cf70d4b0b60e55bec"
      },
      "cell_type": "code",
      "source": "write_csv(data,'RFM_Classes.csv')",
      "execution_count": 12,
      "outputs": []
    },
    {
      "metadata": {
        "trusted": true,
        "_uuid": "433dd13cb19a5e6ddb49dc68d9443dc949448d03"
      },
      "cell_type": "code",
      "source": "",
      "execution_count": null,
      "outputs": []
    }
  ],
  "metadata": {
    "kernelspec": {
      "display_name": "R",
      "language": "R",
      "name": "ir"
    },
    "language_info": {
      "mimetype": "text/x-r-source",
      "name": "R",
      "pygments_lexer": "r",
      "version": "3.4.2",
      "file_extension": ".r",
      "codemirror_mode": "r"
    }
  },
  "nbformat": 4,
  "nbformat_minor": 1
}